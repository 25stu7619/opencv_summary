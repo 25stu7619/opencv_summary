{
  "nbformat": 4,
  "nbformat_minor": 0,
  "metadata": {
    "colab": {
      "provenance": [],
      "authorship_tag": "ABX9TyNmjcOG9LfEF6MDou7OKaG5",
      "include_colab_link": true
    },
    "kernelspec": {
      "name": "python3",
      "display_name": "Python 3"
    },
    "language_info": {
      "name": "python"
    }
  },
  "cells": [
    {
      "cell_type": "markdown",
      "metadata": {
        "id": "view-in-github",
        "colab_type": "text"
      },
      "source": [
        "<a href=\"https://colab.research.google.com/github/25stu7619/opencv_summary/blob/main/face_detect.ipynb\" target=\"_parent\"><img src=\"https://colab.research.google.com/assets/colab-badge.svg\" alt=\"Open In Colab\"/></a>"
      ]
    },
    {
      "cell_type": "code",
      "execution_count": null,
      "metadata": {
        "id": "8RHT6mUx1Wb8"
      },
      "outputs": [],
      "source": [
        "# 간단한 얼굴 인식 코드 (30줄)\n",
        "# Google Colab에서 실행\n",
        "\n",
        "import cv2\n",
        "import numpy as np\n",
        "import requests\n",
        "import matplotlib.pyplot as plt\n",
        "\n",
        "# 이미지 다운로드\n",
        "def load_image(url):\n",
        "    response = requests.get(url)\n",
        "    img_array = np.asarray(bytearray(response.content), dtype=np.uint8)\n",
        "    return cv2.imdecode(img_array, cv2.IMREAD_COLOR)\n",
        "\n",
        "# 얼굴 검출 및 표시\n",
        "def detect_faces(img):\n",
        "    # Haar Cascade 로드\n",
        "    face_cascade = cv2.CascadeClassifier(cv2.data.haarcascades + 'haarcascade_frontalface_default.xml')\n",
        "\n",
        "    # 그레이스케일 변환\n",
        "    gray = cv2.cvtColor(img, cv2.COLOR_BGR2GRAY)\n",
        "\n",
        "    # 얼굴 검출\n",
        "    faces = face_cascade.detectMultiScale(gray, 1.1, 5, minSize=(30, 30))\n",
        "\n",
        "    # 얼굴 영역 표시\n",
        "    for (x, y, w, h) in faces:\n",
        "        cv2.rectangle(img, (x, y), (x+w, y+h), (0, 255, 0), 2)\n",
        "        cv2.putText(img, 'Face', (x, y-10), cv2.FONT_HERSHEY_SIMPLEX, 0.9, (0, 255, 0), 2)\n",
        "\n",
        "    return img, len(faces)\n",
        "\n",
        "# 메인 실행\n",
        "url = input(\"이미지 URL (Enter = 샘플): \") or \"https://images.unsplash.com/photo-1507003211169-0a1dd7228f2d?w=400\"\n",
        "img = load_image(url)\n",
        "result, count = detect_faces(img)\n",
        "\n",
        "print(f\"검출된 얼굴: {count}명\")\n",
        "plt.figure(figsize=(10, 8))\n",
        "plt.imshow(cv2.cvtColor(result, cv2.COLOR_BGR2RGB))\n",
        "plt.title(f'얼굴 검출 결과 - {count}명 발견')\n",
        "plt.axis('off')\n",
        "plt.show()"
      ]
    }
  ]
}